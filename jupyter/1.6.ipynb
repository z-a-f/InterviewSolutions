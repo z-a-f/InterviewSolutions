{
 "cells": [
  {
   "cell_type": "markdown",
   "metadata": {},
   "source": [
    "Given an image represented by an `NxN` matrix, where each pixel in the image is 4 bytes, write a method to rotate the image by 90 degrees. Can you do it in place?"
   ]
  },
  {
   "cell_type": "code",
   "execution_count": null,
   "metadata": {
    "collapsed": false
   },
   "outputs": [],
   "source": [
    "%pylab --no-import-all\n",
    "\n",
    "N = 100\n",
    "matrix = np.round(np.random.random(size=(N,N))*10)\n",
    "#print matrix\n"
   ]
  },
  {
   "cell_type": "markdown",
   "metadata": {},
   "source": [
    "### Solution\n",
    "Note that we need to move indices:\n",
    "1. $(1, 1) \\rightarrow (1, N) \\rightarrow (N, N) \\rightarrow (N, 1)   \\rightarrow (1, 1)$\n",
    "1. $(1, 2) \\rightarrow (2, N) \\rightarrow (N, N-1) \\rightarrow (N-1, 1) \\rightarrow (1, 2)$\n",
    "1. $(1, 3) \\rightarrow (3, N) \\rightarrow (N, N-2) \\rightarrow (N-2, 1) \\rightarrow (1, 3)$\n",
    "1. $(1, N-1) \\rightarrow (N-1, N) \\rightarrow (N, 1) \\rightarrow ()$\n"
   ]
  },
  {
   "cell_type": "code",
   "execution_count": null,
   "metadata": {
    "collapsed": false
   },
   "outputs": [],
   "source": [
    "def rotate_layer(M, b, N):\n",
    "    for idx in xrange(N - 2*b - 1):\n",
    "        M[b, b+idx], M[b+idx, N-b-1]     = M[b+idx, N-b-1],     M[b, b+idx]\n",
    "        M[b, b+idx], M[N-b-1, N-b-1-idx] = M[N-b-1, N-b-1-idx], M[b, b+idx]\n",
    "        M[b, b+idx], M[N-b-1-idx, b]     = M[N-b-1-idx, b],     M[b, b+idx]\n",
    "        \n",
    "def rotate(M):\n",
    "    N = M.shape[0]\n",
    "    for layer in xrange(N / 2):\n",
    "        rotate_layer(M, layer, N)\n",
    "        \n",
    "# print matrix\n",
    "M = matrix\n",
    "rotate(matrix)\n",
    "np.rot90(M)\n",
    "print np.equal(matrix, M)\n"
   ]
  },
  {
   "cell_type": "code",
   "execution_count": 17,
   "metadata": {
    "collapsed": false
   },
   "outputs": [
    {
     "name": "stdout",
     "output_type": "stream",
     "text": [
      "DEBUG: HEAD->0->0->None\n",
      "DEBUG: HEAD->0->0->0->None\n",
      "DEBUG: HEAD->0->0->0->0->None\n",
      "HEAD->0->0->0->1->None\n",
      "HEAD->0->0->9->None\n",
      "HEAD->0->0->1->None\n"
     ]
    }
   ],
   "source": [
    "class Node:\n",
    "    def __init__(self, val, next = None):\n",
    "        self.value = val\n",
    "        self.next = next\n",
    "\n",
    "class Number(object):\n",
    "    def __init__(self, num):\n",
    "        if isinstance(num, Node):\n",
    "            self._head = num\n",
    "            return\n",
    "        self._head = Node(num % 10)\n",
    "        num /= 10\n",
    "        node = self._head\n",
    "        while num > 0:\n",
    "            node.next = Node(num % 10)\n",
    "            num /= 10\n",
    "            node = node.next\n",
    "            \n",
    "def structure(node_head):\n",
    "    node = node_head\n",
    "    res = 'HEAD'\n",
    "    while node is not None:\n",
    "        res += '->' + str(node.value)\n",
    "        node = node.next\n",
    "    res += '->None'\n",
    "    return res\n",
    "\n",
    "    \n",
    "def add_numbers(num1, num2):\n",
    "    res = Node(0, None)\n",
    "    node = res\n",
    "    d1 = num1\n",
    "    d2 = num2\n",
    "    carry = 0\n",
    "    while d1 is not None and d2 is not None:\n",
    "        sum = d1.value + d2.value + carry\n",
    "        if sum > 9:\n",
    "            sum -= 10\n",
    "            carry = 1\n",
    "        else:\n",
    "            carry = 0\n",
    "        node.next = Node(sum)\n",
    "        node = node.next\n",
    "        d1 = d1.next\n",
    "        d2 = d2.next\n",
    "        print \"DEBUG:\", structure(res)\n",
    "    while d1 is not None:\n",
    "        if carry == 0:\n",
    "            node.next = d1\n",
    "            break\n",
    "        sum = d1.value + carry\n",
    "        if sum > 9:\n",
    "            sum -= 10\n",
    "            carry = 1\n",
    "        else:\n",
    "            carry = 0\n",
    "        node.next = Node(sum)\n",
    "        node = node.next\n",
    "        d1 = d1.next\n",
    "    while d2 is not None:\n",
    "        if carry == 0:\n",
    "            node.next = d2\n",
    "            break\n",
    "        sum = d2.value + carry\n",
    "        if sum > 9:\n",
    "            sum -= 10\n",
    "            carry = 1\n",
    "        else:\n",
    "            carry = 0\n",
    "        node.next = Node(sum)\n",
    "        node = node.next\n",
    "        d2 = d2.next\n",
    "    if carry > 0:\n",
    "        node.next = Node(carry, None)\n",
    "    return res.next\n",
    "\n",
    "num1 = Number(900)._head\n",
    "num2 = Number(100)._head\n",
    "result = add_numbers(num1, num2)\n",
    "print structure(result)\n",
    "print structure(num1)\n",
    "print structure(num2)\n"
   ]
  },
  {
   "cell_type": "code",
   "execution_count": null,
   "metadata": {
    "collapsed": true
   },
   "outputs": [],
   "source": []
  }
 ],
 "metadata": {
  "kernelspec": {
   "display_name": "Python 2",
   "language": "python",
   "name": "python2"
  },
  "language_info": {
   "codemirror_mode": {
    "name": "ipython",
    "version": 2
   },
   "file_extension": ".py",
   "mimetype": "text/x-python",
   "name": "python",
   "nbconvert_exporter": "python",
   "pygments_lexer": "ipython2",
   "version": "2.7.12"
  }
 },
 "nbformat": 4,
 "nbformat_minor": 1
}
