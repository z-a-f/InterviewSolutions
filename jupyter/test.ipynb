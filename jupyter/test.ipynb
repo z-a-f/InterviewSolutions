{
 "cells": [
  {
   "cell_type": "markdown",
   "metadata": {},
   "source": [
    "### Solution\n",
    "_Complexity: $$T = O(n), S = O(n)$$_ (to store the output)"
   ]
  },
  {
   "cell_type": "code",
   "execution_count": 25,
   "metadata": {
    "collapsed": true
   },
   "outputs": [],
   "source": [
    "def compress(st):\n",
    "    result = bytearray() # Bytearray is mutable\n",
    "    if len(st) == 0:\n",
    "        return result\n",
    "    count = 1\n",
    "    current = st[0]\n",
    "    result.append(current)\n",
    "    for idx in xrange(1, len(st)):\n",
    "        if st[idx] == current:\n",
    "            count += 1\n",
    "        else:\n",
    "            result.append(str(count))\n",
    "            count = 1\n",
    "            current = st[idx]\n",
    "            result.append(current)\n",
    "    result.append(str(count))\n",
    "    if len(result) > len(st):\n",
    "        return st\n",
    "    return result"
   ]
  },
  {
   "cell_type": "code",
   "execution_count": 28,
   "metadata": {
    "collapsed": false
   },
   "outputs": [
    {
     "name": "stdout",
     "output_type": "stream",
     "text": [
      "Result: a2b1c5a3\n"
     ]
    }
   ],
   "source": [
    "st = 'aabcccccaaa'\n",
    "print 'Result:', compress(st)"
   ]
  },
  {
   "cell_type": "code",
   "execution_count": null,
   "metadata": {
    "collapsed": true
   },
   "outputs": [],
   "source": []
  }
 ],
 "metadata": {
  "kernelspec": {
   "display_name": "Python 2",
   "language": "python",
   "name": "python2"
  },
  "language_info": {
   "codemirror_mode": {
    "name": "ipython",
    "version": 2
   },
   "file_extension": ".py",
   "mimetype": "text/x-python",
   "name": "python",
   "nbconvert_exporter": "python",
   "pygments_lexer": "ipython2",
   "version": "2.7.12"
  }
 },
 "nbformat": 4,
 "nbformat_minor": 1
}
